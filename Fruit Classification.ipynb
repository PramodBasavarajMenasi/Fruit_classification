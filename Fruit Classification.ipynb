{
  "metadata": {
    "kernelspec": {
      "display_name": "Python 3",
      "name": "python3"
    },
    "language_info": {
      "name": "python",
      "version": "3.11.11",
      "mimetype": "text/x-python",
      "codemirror_mode": {
        "name": "ipython",
        "version": 3
      },
      "pygments_lexer": "ipython3",
      "nbconvert_exporter": "python",
      "file_extension": ".py"
    },
    "kaggle": {
      "accelerator": "none",
      "dataSources": [
        {
          "sourceId": 98106,
          "databundleVersionId": 11694951,
          "sourceType": "competition"
        }
      ],
      "dockerImageVersionId": 31012,
      "isInternetEnabled": false,
      "language": "python",
      "sourceType": "notebook",
      "isGpuEnabled": false
    },
    "colab": {
      "name": "Project_Top",
      "provenance": [],
      "gpuType": "T4"
    },
    "accelerator": "GPU"
  },
  "nbformat_minor": 0,
  "nbformat": 4,
  "cells": [
    {
      "cell_type": "markdown",
      "source": [
        "#COLAB_LINK"
      ],
      "metadata": {
        "id": "alydRxJnBAFB"
      }
    },
    {
      "cell_type": "code",
      "source": [
        "Google_colab_link = \"https://colab.research.google.com/drive/1F3k-6fOUSzV-grNc5XJEAk1xg7ZaMguj?usp=sharing\""
      ],
      "metadata": {
        "id": "4qKFznJnA4qU"
      },
      "execution_count": null,
      "outputs": []
    },
    {
      "cell_type": "markdown",
      "source": [
        "# Download the Dataset from kaggle"
      ],
      "metadata": {
        "id": "o4OME9ro-6YQ"
      }
    },
    {
      "cell_type": "code",
      "source": [
        "!pip install opendatasets"
      ],
      "metadata": {
        "collapsed": true,
        "colab": {
          "base_uri": "https://localhost:8080/"
        },
        "id": "6g-yTiyURStz",
        "outputId": "c445873b-d122-4faa-8b32-cda45c3451d8"
      },
      "execution_count": 1,
      "outputs": [
        {
          "output_type": "stream",
          "name": "stdout",
          "text": [
            "Collecting opendatasets\n",
            "  Downloading opendatasets-0.1.22-py3-none-any.whl.metadata (9.2 kB)\n",
            "Requirement already satisfied: tqdm in /usr/local/lib/python3.11/dist-packages (from opendatasets) (4.67.1)\n",
            "Requirement already satisfied: kaggle in /usr/local/lib/python3.11/dist-packages (from opendatasets) (1.7.4.2)\n",
            "Requirement already satisfied: click in /usr/local/lib/python3.11/dist-packages (from opendatasets) (8.1.8)\n",
            "Requirement already satisfied: bleach in /usr/local/lib/python3.11/dist-packages (from kaggle->opendatasets) (6.2.0)\n",
            "Requirement already satisfied: certifi>=14.05.14 in /usr/local/lib/python3.11/dist-packages (from kaggle->opendatasets) (2025.1.31)\n",
            "Requirement already satisfied: charset-normalizer in /usr/local/lib/python3.11/dist-packages (from kaggle->opendatasets) (3.4.1)\n",
            "Requirement already satisfied: idna in /usr/local/lib/python3.11/dist-packages (from kaggle->opendatasets) (3.10)\n",
            "Requirement already satisfied: protobuf in /usr/local/lib/python3.11/dist-packages (from kaggle->opendatasets) (5.29.4)\n",
            "Requirement already satisfied: python-dateutil>=2.5.3 in /usr/local/lib/python3.11/dist-packages (from kaggle->opendatasets) (2.8.2)\n",
            "Requirement already satisfied: python-slugify in /usr/local/lib/python3.11/dist-packages (from kaggle->opendatasets) (8.0.4)\n",
            "Requirement already satisfied: requests in /usr/local/lib/python3.11/dist-packages (from kaggle->opendatasets) (2.32.3)\n",
            "Requirement already satisfied: setuptools>=21.0.0 in /usr/local/lib/python3.11/dist-packages (from kaggle->opendatasets) (75.2.0)\n",
            "Requirement already satisfied: six>=1.10 in /usr/local/lib/python3.11/dist-packages (from kaggle->opendatasets) (1.17.0)\n",
            "Requirement already satisfied: text-unidecode in /usr/local/lib/python3.11/dist-packages (from kaggle->opendatasets) (1.3)\n",
            "Requirement already satisfied: urllib3>=1.15.1 in /usr/local/lib/python3.11/dist-packages (from kaggle->opendatasets) (2.3.0)\n",
            "Requirement already satisfied: webencodings in /usr/local/lib/python3.11/dist-packages (from kaggle->opendatasets) (0.5.1)\n",
            "Downloading opendatasets-0.1.22-py3-none-any.whl (15 kB)\n",
            "Installing collected packages: opendatasets\n",
            "Successfully installed opendatasets-0.1.22\n"
          ]
        }
      ]
    },
    {
      "cell_type": "code",
      "source": [
        "import opendatasets as od\n",
        "datasets = \"https://www.kaggle.com/competitions/fruit-classification/data\"\n",
        "od.download(datasets)"
      ],
      "metadata": {
        "collapsed": true,
        "colab": {
          "base_uri": "https://localhost:8080/"
        },
        "id": "WZmaPKMIRbpU",
        "outputId": "bfd5b368-b0ac-4acd-c25f-50727dd3c897"
      },
      "execution_count": 4,
      "outputs": [
        {
          "output_type": "stream",
          "name": "stdout",
          "text": [
            "Skipping, found downloaded files in \"./fruit-classification\" (use force=True to force download)\n"
          ]
        }
      ]
    },
    {
      "cell_type": "code",
      "source": [
        "import pandas as pd"
      ],
      "metadata": {
        "trusted": true,
        "execution": {
          "iopub.status.busy": "2025-04-27T05:00:56.764837Z",
          "iopub.execute_input": "2025-04-27T05:00:56.765136Z",
          "iopub.status.idle": "2025-04-27T05:00:57.099896Z",
          "shell.execute_reply.started": "2025-04-27T05:00:56.765115Z",
          "shell.execute_reply": "2025-04-27T05:00:57.099001Z"
        },
        "id": "CH6oINdoQQfH"
      },
      "outputs": [],
      "execution_count": 5
    },
    {
      "cell_type": "code",
      "source": [
        "df_test = pd.read_csv(\"/content/fruit-classification/sample_submission.csv\")\n"
      ],
      "metadata": {
        "trusted": true,
        "execution": {
          "iopub.status.busy": "2025-04-27T05:00:57.101038Z",
          "iopub.execute_input": "2025-04-27T05:00:57.101453Z",
          "iopub.status.idle": "2025-04-27T05:00:57.120193Z",
          "shell.execute_reply.started": "2025-04-27T05:00:57.101418Z",
          "shell.execute_reply": "2025-04-27T05:00:57.11925Z"
        },
        "id": "DU82wgtIQQfH"
      },
      "outputs": [],
      "execution_count": 6
    },
    {
      "cell_type": "code",
      "source": [
        "df_train = pd.read_csv(\"/content/fruit-classification/train.csv\")"
      ],
      "metadata": {
        "trusted": true,
        "execution": {
          "iopub.status.busy": "2025-04-27T05:00:57.266092Z",
          "iopub.execute_input": "2025-04-27T05:00:57.266386Z",
          "iopub.status.idle": "2025-04-27T05:00:57.276675Z",
          "shell.execute_reply.started": "2025-04-27T05:00:57.266364Z",
          "shell.execute_reply": "2025-04-27T05:00:57.275702Z"
        },
        "id": "4l81LjJdQQfI"
      },
      "outputs": [],
      "execution_count": 7
    },
    {
      "cell_type": "code",
      "source": [
        "from PIL import Image\n",
        "import os\n",
        "import matplotlib.pyplot as plt\n",
        "\n",
        "# Image folder path\n",
        "image_folder = \"/content/fruit-classification/train/train\"\n",
        "\n",
        "# Example: load the first image\n",
        "first_image_name = df_train.loc[114, 'Id']\n",
        "img_path = os.path.join(image_folder, first_image_name)\n",
        "\n",
        "# Load the image\n",
        "image = Image.open(img_path)\n",
        "plt.imshow(image)\n",
        "plt.axis('off')\n",
        "plt.show()"
      ],
      "metadata": {
        "trusted": true,
        "execution": {
          "iopub.status.busy": "2025-04-27T05:01:00.065011Z",
          "iopub.execute_input": "2025-04-27T05:01:00.065769Z",
          "iopub.status.idle": "2025-04-27T05:01:00.287393Z",
          "shell.execute_reply.started": "2025-04-27T05:01:00.065733Z",
          "shell.execute_reply": "2025-04-27T05:01:00.286497Z"
        },
        "colab": {
          "base_uri": "https://localhost:8080/",
          "height": 406
        },
        "id": "ZnUIf87LQQfI",
        "outputId": "76a18302-1ed0-4b39-e219-71b5974b1a81"
      },
      "outputs": [
        {
          "output_type": "display_data",
          "data": {
            "text/plain": [
              "<Figure size 640x480 with 1 Axes>"
            ],
            "image/png": "[encoded data removed]"
          },
          "metadata": {}
        }
      ],
      "execution_count": 8
    },
    {
      "cell_type": "markdown",
      "source": [
        "# Fruit Classification - project\n"
      ],
      "metadata": {
        "id": "2wrUpAEaTS3x"
      }
    },
    {
      "cell_type": "code",
      "source": [
        "import os\n",
        "import pandas as pd\n",
        "import numpy as np\n",
        "import torch\n",
        "from torch.utils.data import Dataset, DataLoader\n",
        "from torchvision import transforms\n",
        "from PIL import Image\n",
        "import matplotlib.pyplot as plt\n",
        "from sklearn.model_selection import train_test_split"
      ],
      "metadata": {
        "trusted": true,
        "execution": {
          "iopub.status.busy": "2025-04-27T07:14:02.753955Z",
          "iopub.execute_input": "2025-04-27T07:14:02.754258Z",
          "iopub.status.idle": "2025-04-27T07:14:12.288409Z",
          "shell.execute_reply.started": "2025-04-27T07:14:02.754234Z",
          "shell.execute_reply": "2025-04-27T07:14:12.287667Z"
        },
        "id": "voVoF6VSQQfI"
      },
      "outputs": [],
      "execution_count": 9
    },
    {
      "cell_type": "code",
      "source": [
        "# Define constants\n",
        "TRAIN_CSV_PATH = '/content/fruit-classification/train.csv'\n",
        "TRAIN_IMG_DIR = '/content/fruit-classification/train/train'\n",
        "TEST_IMG_DIR = '/content/fruit-classification/test/test'\n",
        "BATCH_SIZE = 32\n",
        "SEED = 42\n",
        "VALIDATION_SPLIT = 0.2"
      ],
      "metadata": {
        "trusted": true,
        "execution": {
          "iopub.status.busy": "2025-04-27T07:14:12.289834Z",
          "iopub.execute_input": "2025-04-27T07:14:12.290284Z",
          "iopub.status.idle": "2025-04-27T07:14:12.295358Z",
          "shell.execute_reply.started": "2025-04-27T07:14:12.290259Z",
          "shell.execute_reply": "2025-04-27T07:14:12.294473Z"
        },
        "id": "FEMcdDIEQQfJ"
      },
      "outputs": [],
      "execution_count": 10
    },
    {
      "cell_type": "code",
      "source": [
        "# Set random seeds for reproducibility\n",
        "torch.manual_seed(SEED)\n",
        "np.random.seed(SEED)"
      ],
      "metadata": {
        "trusted": true,
        "execution": {
          "iopub.status.busy": "2025-04-27T07:14:12.296276Z",
          "iopub.execute_input": "2025-04-27T07:14:12.29673Z",
          "iopub.status.idle": "2025-04-27T07:14:12.326513Z",
          "shell.execute_reply.started": "2025-04-27T07:14:12.296697Z",
          "shell.execute_reply": "2025-04-27T07:14:12.325593Z"
        },
        "id": "yQXuxb0IQQfJ"
      },
      "outputs": [],
      "execution_count": 11
    },
    {
      "cell_type": "code",
      "source": [
        "# Check for GPU\n",
        "device = torch.device('cuda' if torch.cuda.is_available() else 'cpu')\n",
        "print(f\"Using device: {device}\")"
      ],
      "metadata": {
        "trusted": true,
        "execution": {
          "iopub.status.busy": "2025-04-27T07:14:12.327879Z",
          "iopub.execute_input": "2025-04-27T07:14:12.328185Z",
          "iopub.status.idle": "2025-04-27T07:14:12.338658Z",
          "shell.execute_reply.started": "2025-04-27T07:14:12.328154Z",
          "shell.execute_reply": "2025-04-27T07:14:12.33782Z"
        },
        "colab": {
          "base_uri": "https://localhost:8080/"
        },
        "id": "gPa9eSoNQQfJ",
        "outputId": "6abb1b42-4cc0-4551-d2ee-2e87dfdf1065"
      },
      "outputs": [
        {
          "output_type": "stream",
          "name": "stdout",
          "text": [
            "Using device: cuda\n"
          ]
        }
      ],
      "execution_count": 12
    },
    {
      "cell_type": "code",
      "source": [
        "# Define the transformation pipeline\n",
        "train_transforms = transforms.Compose([\n",
        "    transforms.Resize((224, 224)),\n",
        "    transforms.RandomHorizontalFlip(),\n",
        "    transforms.RandomRotation(15),\n",
        "    transforms.ColorJitter(brightness=0.1, contrast=0.1, saturation=0.1),\n",
        "    transforms.ToTensor(),\n",
        "    transforms.Normalize(mean=[0.485, 0.456, 0.406], std=[0.229, 0.224, 0.225])\n",
        "])"
      ],
      "metadata": {
        "trusted": true,
        "execution": {
          "iopub.status.busy": "2025-04-27T07:18:39.025245Z",
          "iopub.execute_input": "2025-04-27T07:18:39.02562Z",
          "iopub.status.idle": "2025-04-27T07:18:39.031167Z",
          "shell.execute_reply.started": "2025-04-27T07:18:39.025591Z",
          "shell.execute_reply": "2025-04-27T07:18:39.030284Z"
        },
        "id": "tsoY9U23QQfJ"
      },
      "outputs": [],
      "execution_count": 13
    },
    {
      "cell_type": "code",
      "source": [
        "val_test_transforms = transforms.Compose([\n",
        "    transforms.Resize((224, 224)),\n",
        "    transforms.ToTensor(),\n",
        "    transforms.Normalize(mean=[0.485, 0.456, 0.406], std=[0.229, 0.224, 0.225])\n",
        "])"
      ],
      "metadata": {
        "trusted": true,
        "execution": {
          "iopub.status.busy": "2025-04-27T07:18:39.360452Z",
          "iopub.execute_input": "2025-04-27T07:18:39.360753Z",
          "iopub.status.idle": "2025-04-27T07:18:39.365458Z",
          "shell.execute_reply.started": "2025-04-27T07:18:39.36073Z",
          "shell.execute_reply": "2025-04-27T07:18:39.36444Z"
        },
        "id": "EoZGypPoQQfJ"
      },
      "outputs": [],
      "execution_count": 14
    },
    {
      "cell_type": "code",
      "source": [
        "# Class for the training and validation datasets (with labels)\n",
        "class FruitDataset(Dataset):\n",
        "    def __init__(self, df, img_dir, transform=None):\n",
        "        self.df = df\n",
        "        self.img_dir = img_dir\n",
        "        self.transform = transform\n",
        "\n",
        "        # Create a label mapping for classification\n",
        "        self.classes = ['fresh_apple', 'fresh_banana', 'fresh_orange',\n",
        "                        'rotten_apple', 'rotten_banana', 'rotten_orange']\n",
        "        self.class_to_idx = {cls: idx for idx, cls in enumerate(self.classes)}\n",
        "\n",
        "    def __len__(self):\n",
        "        return len(self.df)\n",
        "\n",
        "    def __getitem__(self, idx):\n",
        "        img_name = self.df.iloc[idx]['Id']\n",
        "        label = self.df.iloc[idx]['Label']\n",
        "        img_path = os.path.join(self.img_dir, img_name)\n",
        "\n",
        "        # Handle both PNG and JPEG files with RGBA\n",
        "        image = Image.open(img_path).convert('RGB')\n",
        "\n",
        "        if self.transform:\n",
        "            image = self.transform(image)\n",
        "\n",
        "        # Convert text label to numeric index\n",
        "        label_idx = self.class_to_idx[label]\n",
        "\n",
        "        return image, label_idx"
      ],
      "metadata": {
        "trusted": true,
        "execution": {
          "iopub.status.busy": "2025-04-27T07:18:40.701232Z",
          "iopub.execute_input": "2025-04-27T07:18:40.701688Z",
          "iopub.status.idle": "2025-04-27T07:18:40.708494Z",
          "shell.execute_reply.started": "2025-04-27T07:18:40.701655Z",
          "shell.execute_reply": "2025-04-27T07:18:40.707589Z"
        },
        "id": "wAf5BDtLQQfJ"
      },
      "outputs": [],
      "execution_count": 15
    },
    {
      "cell_type": "code",
      "source": [
        "# Class for the test dataset (without labels)\n",
        "class TestFruitDataset(Dataset):\n",
        "    def __init__(self, img_dir, transform=None):\n",
        "        self.img_dir = img_dir\n",
        "        self.transform = transform\n",
        "        self.img_names = [f for f in os.listdir(img_dir) if f.endswith(('.png', '.jpg', '.jpeg'))]\n",
        "\n",
        "    def __len__(self):\n",
        "        return len(self.img_names)\n",
        "\n",
        "    def __getitem__(self, idx):\n",
        "        img_name = self.img_names[idx]\n",
        "        img_path = os.path.join(self.img_dir, img_name)\n",
        "\n",
        "        # Handle both PNG and JPEG files with RGBA\n",
        "        image = Image.open(img_path).convert('RGB')\n",
        "\n",
        "        if self.transform:\n",
        "            image = self.transform(image)\n",
        "\n",
        "        return image, img_name"
      ],
      "metadata": {
        "trusted": true,
        "execution": {
          "iopub.status.busy": "2025-04-27T07:18:41.720619Z",
          "iopub.execute_input": "2025-04-27T07:18:41.720947Z",
          "iopub.status.idle": "2025-04-27T07:18:41.727348Z",
          "shell.execute_reply.started": "2025-04-27T07:18:41.720925Z",
          "shell.execute_reply": "2025-04-27T07:18:41.726266Z"
        },
        "id": "vdtOfDB1QQfK"
      },
      "outputs": [],
      "execution_count": 16
    },
    {
      "cell_type": "code",
      "source": [
        "def create_dataloaders():\n",
        "    # Read the training data CSV\n",
        "    train_df = pd.read_csv(TRAIN_CSV_PATH)\n",
        "\n",
        "    # Split into train and validation sets\n",
        "    train_df, val_df = train_test_split(\n",
        "        train_df, test_size=VALIDATION_SPLIT, random_state=SEED,\n",
        "        stratify=train_df['Label']  # Stratify to maintain class distribution\n",
        "    )\n",
        "\n",
        "    # Create datasets\n",
        "    train_dataset = FruitDataset(train_df, TRAIN_IMG_DIR, transform=train_transforms)\n",
        "    val_dataset = FruitDataset(val_df, TRAIN_IMG_DIR, transform=val_test_transforms)\n",
        "    test_dataset = TestFruitDataset(TEST_IMG_DIR, transform=val_test_transforms)\n",
        "\n",
        "    # Create dataloaders\n",
        "    train_loader = DataLoader(\n",
        "        train_dataset, batch_size=BATCH_SIZE, shuffle=True, num_workers=4\n",
        "    )\n",
        "\n",
        "    val_loader = DataLoader(\n",
        "        val_dataset, batch_size=BATCH_SIZE, shuffle=False, num_workers=4\n",
        "    )\n",
        "\n",
        "    test_loader = DataLoader(\n",
        "        test_dataset, batch_size=BATCH_SIZE, shuffle=False, num_workers=4\n",
        "    )\n",
        "\n",
        "    return train_loader, val_loader, test_loader, train_dataset.classes"
      ],
      "metadata": {
        "trusted": true,
        "execution": {
          "iopub.status.busy": "2025-04-27T07:18:42.666523Z",
          "iopub.execute_input": "2025-04-27T07:18:42.666839Z",
          "iopub.status.idle": "2025-04-27T07:18:42.673004Z",
          "shell.execute_reply.started": "2025-04-27T07:18:42.666814Z",
          "shell.execute_reply": "2025-04-27T07:18:42.672083Z"
        },
        "id": "QE9iL2kkQQfK"
      },
      "outputs": [],
      "execution_count": 17
    },
    {
      "cell_type": "code",
      "source": [
        "train_loader, val_loader, test_loader, classes = create_dataloaders()"
      ],
      "metadata": {
        "trusted": true,
        "execution": {
          "iopub.status.busy": "2025-04-27T07:18:44.180745Z",
          "iopub.execute_input": "2025-04-27T07:18:44.181061Z",
          "iopub.status.idle": "2025-04-27T07:18:44.251396Z",
          "shell.execute_reply.started": "2025-04-27T07:18:44.181037Z",
          "shell.execute_reply": "2025-04-27T07:18:44.250587Z"
        },
        "collapsed": true,
        "colab": {
          "base_uri": "https://localhost:8080/"
        },
        "id": "yckCbTkMQQfK",
        "outputId": "e6f10cd9-5945-47fc-cc54-f79d278f5bca"
      },
      "outputs": [
        {
          "output_type": "stream",
          "name": "stderr",
          "text": [
            "/usr/local/lib/python3.11/dist-packages/torch/utils/data/dataloader.py:624: UserWarning: This DataLoader will create 4 worker processes in total. Our suggested max number of worker in current system is 2, which is smaller than what this DataLoader is going to create. Please be aware that excessive worker creation might get DataLoader running slow or even freeze, lower the worker number to avoid potential slowness/freeze if necessary.\n",
            "  warnings.warn(\n"
          ]
        }
      ],
      "execution_count": 18
    },
    {
      "cell_type": "code",
      "source": [
        "#  train_dataset.classes\n",
        "classes"
      ],
      "metadata": {
        "colab": {
          "base_uri": "https://localhost:8080/"
        },
        "id": "Sp6Cl6INWt_o",
        "outputId": "5d92cb4b-7216-4f54-9f74-ccb2263d317e"
      },
      "execution_count": 19,
      "outputs": [
        {
          "output_type": "execute_result",
          "data": {
            "text/plain": [
              "['fresh_apple',\n",
              " 'fresh_banana',\n",
              " 'fresh_orange',\n",
              " 'rotten_apple',\n",
              " 'rotten_banana',\n",
              " 'rotten_orange']"
            ]
          },
          "metadata": {},
          "execution_count": 19
        }
      ]
    },
    {
      "cell_type": "markdown",
      "source": [
        "# ResNet18 - Pretrained model"
      ],
      "metadata": {
        "id": "HYIxQ4hDW-qP"
      }
    },
    {
      "cell_type": "code",
      "source": [
        "import torch.hub\n",
        "\n",
        "Resnet18 = torch.hub.load('pytorch/vision:v0.10.0', 'resnet18', pretrained=True)"
      ],
      "metadata": {
        "trusted": true,
        "execution": {
          "iopub.status.busy": "2025-04-27T07:31:29.01573Z",
          "iopub.execute_input": "2025-04-27T07:31:29.016052Z",
          "iopub.status.idle": "2025-04-27T07:32:11.562615Z",
          "shell.execute_reply.started": "2025-04-27T07:31:29.016001Z",
          "shell.execute_reply": "2025-04-27T07:32:11.560966Z"
        },
        "colab": {
          "base_uri": "https://localhost:8080/"
        },
        "id": "JiqDLOjIQQfK",
        "outputId": "bd422db4-9f4a-4cc7-edb1-9f93274e0366"
      },
      "outputs": [
        {
          "output_type": "stream",
          "name": "stderr",
          "text": [
            "Downloading: \"https://github.com/pytorch/vision/zipball/v0.10.0\" to /root/.cache/torch/hub/v0.10.0.zip\n",
            "/usr/local/lib/python3.11/dist-packages/torchvision/models/_utils.py:208: UserWarning: The parameter 'pretrained' is deprecated since 0.13 and may be removed in the future, please use 'weights' instead.\n",
            "  warnings.warn(\n",
            "/usr/local/lib/python3.11/dist-packages/torchvision/models/_utils.py:223: UserWarning: Arguments other than a weight enum or `None` for 'weights' are deprecated since 0.13 and may be removed in the future. The current behavior is equivalent to passing `weights=ResNet18_Weights.IMAGENET1K_V1`. You can also use `weights=ResNet18_Weights.DEFAULT` to get the most up-to-date weights.\n",
            "  warnings.warn(msg)\n",
            "Downloading: \"https://download.pytorch.org/models/resnet18-f37072fd.pth\" to /root/.cache/torch/hub/checkpoints/resnet18-f37072fd.pth\n",
            "100%|██████████| 44.7M/44.7M [00:00<00:00, 194MB/s]\n"
          ]
        }
      ],
      "execution_count": 20
    },
    {
      "cell_type": "code",
      "source": [
        "Resnet18"
      ],
      "metadata": {
        "trusted": true,
        "collapsed": true,
        "colab": {
          "base_uri": "https://localhost:8080/"
        },
        "id": "x69azumJQQfK",
        "outputId": "2a2b92d5-4565-4a81-d208-4bdcc1ebff1c"
      },
      "outputs": [
        {
          "output_type": "execute_result",
          "data": {
            "text/plain": [
              "ResNet(\n",
              "  (conv1): Conv2d(3, 64, kernel_size=(7, 7), stride=(2, 2), padding=(3, 3), bias=False)\n",
              "  (bn1): BatchNorm2d(64, eps=1e-05, momentum=0.1, affine=True, track_running_stats=True)\n",
              "  (relu): ReLU(inplace=True)\n",
              "  (maxpool): MaxPool2d(kernel_size=3, stride=2, padding=1, dilation=1, ceil_mode=False)\n",
              "  (layer1): Sequential(\n",
              "    (0): BasicBlock(\n",
              "      (conv1): Conv2d(64, 64, kernel_size=(3, 3), stride=(1, 1), padding=(1, 1), bias=False)\n",
              "      (bn1): BatchNorm2d(64, eps=1e-05, momentum=0.1, affine=True, track_running_stats=True)\n",
              "      (relu): ReLU(inplace=True)\n",
              "      (conv2): Conv2d(64, 64, kernel_size=(3, 3), stride=(1, 1), padding=(1, 1), bias=False)\n",
              "      (bn2): BatchNorm2d(64, eps=1e-05, momentum=0.1, affine=True, track_running_stats=True)\n",
              "    )\n",
              "    (1): BasicBlock(\n",
              "      (conv1): Conv2d(64, 64, kernel_size=(3, 3), stride=(1, 1), padding=(1, 1), bias=False)\n",
              "      (bn1): BatchNorm2d(64, eps=1e-05, momentum=0.1, affine=True, track_running_stats=True)\n",
              "      (relu): ReLU(inplace=True)\n",
              "      (conv2): Conv2d(64, 64, kernel_size=(3, 3), stride=(1, 1), padding=(1, 1), bias=False)\n",
              "      (bn2): BatchNorm2d(64, eps=1e-05, momentum=0.1, affine=True, track_running_stats=True)\n",
              "    )\n",
              "  )\n",
              "  (layer2): Sequential(\n",
              "    (0): BasicBlock(\n",
              "      (conv1): Conv2d(64, 128, kernel_size=(3, 3), stride=(2, 2), padding=(1, 1), bias=False)\n",
              "      (bn1): BatchNorm2d(128, eps=1e-05, momentum=0.1, affine=True, track_running_stats=True)\n",
              "      (relu): ReLU(inplace=True)\n",
              "      (conv2): Conv2d(128, 128, kernel_size=(3, 3), stride=(1, 1), padding=(1, 1), bias=False)\n",
              "      (bn2): BatchNorm2d(128, eps=1e-05, momentum=0.1, affine=True, track_running_stats=True)\n",
              "      (downsample): Sequential(\n",
              "        (0): Conv2d(64, 128, kernel_size=(1, 1), stride=(2, 2), bias=False)\n",
              "        (1): BatchNorm2d(128, eps=1e-05, momentum=0.1, affine=True, track_running_stats=True)\n",
              "      )\n",
              "    )\n",
              "    (1): BasicBlock(\n",
              "      (conv1): Conv2d(128, 128, kernel_size=(3, 3), stride=(1, 1), padding=(1, 1), bias=False)\n",
              "      (bn1): BatchNorm2d(128, eps=1e-05, momentum=0.1, affine=True, track_running_stats=True)\n",
              "      (relu): ReLU(inplace=True)\n",
              "      (conv2): Conv2d(128, 128, kernel_size=(3, 3), stride=(1, 1), padding=(1, 1), bias=False)\n",
              "      (bn2): BatchNorm2d(128, eps=1e-05, momentum=0.1, affine=True, track_running_stats=True)\n",
              "    )\n",
              "  )\n",
              "  (layer3): Sequential(\n",
              "    (0): BasicBlock(\n",
              "      (conv1): Conv2d(128, 256, kernel_size=(3, 3), stride=(2, 2), padding=(1, 1), bias=False)\n",
              "      (bn1): BatchNorm2d(256, eps=1e-05, momentum=0.1, affine=True, track_running_stats=True)\n",
              "      (relu): ReLU(inplace=True)\n",
              "      (conv2): Conv2d(256, 256, kernel_size=(3, 3), stride=(1, 1), padding=(1, 1), bias=False)\n",
              "      (bn2): BatchNorm2d(256, eps=1e-05, momentum=0.1, affine=True, track_running_stats=True)\n",
              "      (downsample): Sequential(\n",
              "        (0): Conv2d(128, 256, kernel_size=(1, 1), stride=(2, 2), bias=False)\n",
              "        (1): BatchNorm2d(256, eps=1e-05, momentum=0.1, affine=True, track_running_stats=True)\n",
              "      )\n",
              "    )\n",
              "    (1): BasicBlock(\n",
              "      (conv1): Conv2d(256, 256, kernel_size=(3, 3), stride=(1, 1), padding=(1, 1), bias=False)\n",
              "      (bn1): BatchNorm2d(256, eps=1e-05, momentum=0.1, affine=True, track_running_stats=True)\n",
              "      (relu): ReLU(inplace=True)\n",
              "      (conv2): Conv2d(256, 256, kernel_size=(3, 3), stride=(1, 1), padding=(1, 1), bias=False)\n",
              "      (bn2): BatchNorm2d(256, eps=1e-05, momentum=0.1, affine=True, track_running_stats=True)\n",
              "    )\n",
              "  )\n",
              "  (layer4): Sequential(\n",
              "    (0): BasicBlock(\n",
              "      (conv1): Conv2d(256, 512, kernel_size=(3, 3), stride=(2, 2), padding=(1, 1), bias=False)\n",
              "      (bn1): BatchNorm2d(512, eps=1e-05, momentum=0.1, affine=True, track_running_stats=True)\n",
              "      (relu): ReLU(inplace=True)\n",
              "      (conv2): Conv2d(512, 512, kernel_size=(3, 3), stride=(1, 1), padding=(1, 1), bias=False)\n",
              "      (bn2): BatchNorm2d(512, eps=1e-05, momentum=0.1, affine=True, track_running_stats=True)\n",
              "      (downsample): Sequential(\n",
              "        (0): Conv2d(256, 512, kernel_size=(1, 1), stride=(2, 2), bias=False)\n",
              "        (1): BatchNorm2d(512, eps=1e-05, momentum=0.1, affine=True, track_running_stats=True)\n",
              "      )\n",
              "    )\n",
              "    (1): BasicBlock(\n",
              "      (conv1): Conv2d(512, 512, kernel_size=(3, 3), stride=(1, 1), padding=(1, 1), bias=False)\n",
              "      (bn1): BatchNorm2d(512, eps=1e-05, momentum=0.1, affine=True, track_running_stats=True)\n",
              "      (relu): ReLU(inplace=True)\n",
              "      (conv2): Conv2d(512, 512, kernel_size=(3, 3), stride=(1, 1), padding=(1, 1), bias=False)\n",
              "      (bn2): BatchNorm2d(512, eps=1e-05, momentum=0.1, affine=True, track_running_stats=True)\n",
              "    )\n",
              "  )\n",
              "  (avgpool): AdaptiveAvgPool2d(output_size=(1, 1))\n",
              "  (fc): Linear(in_features=512, out_features=1000, bias=True)\n",
              ")"
            ]
          },
          "metadata": {},
          "execution_count": 21
        }
      ],
      "execution_count": 21
    },
    {
      "cell_type": "markdown",
      "source": [
        "# Define own fc"
      ],
      "metadata": {
        "id": "D1yZsQCB_LWo"
      }
    },
    {
      "cell_type": "code",
      "source": [
        "import torch.nn as nn\n",
        "Resnet18.fc = nn.Sequential(\n",
        "    nn.Linear(512, 120),\n",
        "    nn.ReLU(),\n",
        "    nn.Dropout(0.2),\n",
        "    nn.Linear(120, 10)\n",
        ")"
      ],
      "metadata": {
        "id": "cKABgNYiX1MF"
      },
      "execution_count": 22,
      "outputs": []
    },
    {
      "cell_type": "code",
      "source": [
        "Resnet18"
      ],
      "metadata": {
        "collapsed": true,
        "colab": {
          "base_uri": "https://localhost:8080/"
        },
        "id": "E4GzHGs2YrCd",
        "outputId": "4760d551-55cd-4693-a486-c839b924e58f"
      },
      "execution_count": 23,
      "outputs": [
        {
          "output_type": "execute_result",
          "data": {
            "text/plain": [
              "ResNet(\n",
              "  (conv1): Conv2d(3, 64, kernel_size=(7, 7), stride=(2, 2), padding=(3, 3), bias=False)\n",
              "  (bn1): BatchNorm2d(64, eps=1e-05, momentum=0.1, affine=True, track_running_stats=True)\n",
              "  (relu): ReLU(inplace=True)\n",
              "  (maxpool): MaxPool2d(kernel_size=3, stride=2, padding=1, dilation=1, ceil_mode=False)\n",
              "  (layer1): Sequential(\n",
              "    (0): BasicBlock(\n",
              "      (conv1): Conv2d(64, 64, kernel_size=(3, 3), stride=(1, 1), padding=(1, 1), bias=False)\n",
              "      (bn1): BatchNorm2d(64, eps=1e-05, momentum=0.1, affine=True, track_running_stats=True)\n",
              "      (relu): ReLU(inplace=True)\n",
              "      (conv2): Conv2d(64, 64, kernel_size=(3, 3), stride=(1, 1), padding=(1, 1), bias=False)\n",
              "      (bn2): BatchNorm2d(64, eps=1e-05, momentum=0.1, affine=True, track_running_stats=True)\n",
              "    )\n",
              "    (1): BasicBlock(\n",
              "      (conv1): Conv2d(64, 64, kernel_size=(3, 3), stride=(1, 1), padding=(1, 1), bias=False)\n",
              "      (bn1): BatchNorm2d(64, eps=1e-05, momentum=0.1, affine=True, track_running_stats=True)\n",
              "      (relu): ReLU(inplace=True)\n",
              "      (conv2): Conv2d(64, 64, kernel_size=(3, 3), stride=(1, 1), padding=(1, 1), bias=False)\n",
              "      (bn2): BatchNorm2d(64, eps=1e-05, momentum=0.1, affine=True, track_running_stats=True)\n",
              "    )\n",
              "  )\n",
              "  (layer2): Sequential(\n",
              "    (0): BasicBlock(\n",
              "      (conv1): Conv2d(64, 128, kernel_size=(3, 3), stride=(2, 2), padding=(1, 1), bias=False)\n",
              "      (bn1): BatchNorm2d(128, eps=1e-05, momentum=0.1, affine=True, track_running_stats=True)\n",
              "      (relu): ReLU(inplace=True)\n",
              "      (conv2): Conv2d(128, 128, kernel_size=(3, 3), stride=(1, 1), padding=(1, 1), bias=False)\n",
              "      (bn2): BatchNorm2d(128, eps=1e-05, momentum=0.1, affine=True, track_running_stats=True)\n",
              "      (downsample): Sequential(\n",
              "        (0): Conv2d(64, 128, kernel_size=(1, 1), stride=(2, 2), bias=False)\n",
              "        (1): BatchNorm2d(128, eps=1e-05, momentum=0.1, affine=True, track_running_stats=True)\n",
              "      )\n",
              "    )\n",
              "    (1): BasicBlock(\n",
              "      (conv1): Conv2d(128, 128, kernel_size=(3, 3), stride=(1, 1), padding=(1, 1), bias=False)\n",
              "      (bn1): BatchNorm2d(128, eps=1e-05, momentum=0.1, affine=True, track_running_stats=True)\n",
              "      (relu): ReLU(inplace=True)\n",
              "      (conv2): Conv2d(128, 128, kernel_size=(3, 3), stride=(1, 1), padding=(1, 1), bias=False)\n",
              "      (bn2): BatchNorm2d(128, eps=1e-05, momentum=0.1, affine=True, track_running_stats=True)\n",
              "    )\n",
              "  )\n",
              "  (layer3): Sequential(\n",
              "    (0): BasicBlock(\n",
              "      (conv1): Conv2d(128, 256, kernel_size=(3, 3), stride=(2, 2), padding=(1, 1), bias=False)\n",
              "      (bn1): BatchNorm2d(256, eps=1e-05, momentum=0.1, affine=True, track_running_stats=True)\n",
              "      (relu): ReLU(inplace=True)\n",
              "      (conv2): Conv2d(256, 256, kernel_size=(3, 3), stride=(1, 1), padding=(1, 1), bias=False)\n",
              "      (bn2): BatchNorm2d(256, eps=1e-05, momentum=0.1, affine=True, track_running_stats=True)\n",
              "      (downsample): Sequential(\n",
              "        (0): Conv2d(128, 256, kernel_size=(1, 1), stride=(2, 2), bias=False)\n",
              "        (1): BatchNorm2d(256, eps=1e-05, momentum=0.1, affine=True, track_running_stats=True)\n",
              "      )\n",
              "    )\n",
              "    (1): BasicBlock(\n",
              "      (conv1): Conv2d(256, 256, kernel_size=(3, 3), stride=(1, 1), padding=(1, 1), bias=False)\n",
              "      (bn1): BatchNorm2d(256, eps=1e-05, momentum=0.1, affine=True, track_running_stats=True)\n",
              "      (relu): ReLU(inplace=True)\n",
              "      (conv2): Conv2d(256, 256, kernel_size=(3, 3), stride=(1, 1), padding=(1, 1), bias=False)\n",
              "      (bn2): BatchNorm2d(256, eps=1e-05, momentum=0.1, affine=True, track_running_stats=True)\n",
              "    )\n",
              "  )\n",
              "  (layer4): Sequential(\n",
              "    (0): BasicBlock(\n",
              "      (conv1): Conv2d(256, 512, kernel_size=(3, 3), stride=(2, 2), padding=(1, 1), bias=False)\n",
              "      (bn1): BatchNorm2d(512, eps=1e-05, momentum=0.1, affine=True, track_running_stats=True)\n",
              "      (relu): ReLU(inplace=True)\n",
              "      (conv2): Conv2d(512, 512, kernel_size=(3, 3), stride=(1, 1), padding=(1, 1), bias=False)\n",
              "      (bn2): BatchNorm2d(512, eps=1e-05, momentum=0.1, affine=True, track_running_stats=True)\n",
              "      (downsample): Sequential(\n",
              "        (0): Conv2d(256, 512, kernel_size=(1, 1), stride=(2, 2), bias=False)\n",
              "        (1): BatchNorm2d(512, eps=1e-05, momentum=0.1, affine=True, track_running_stats=True)\n",
              "      )\n",
              "    )\n",
              "    (1): BasicBlock(\n",
              "      (conv1): Conv2d(512, 512, kernel_size=(3, 3), stride=(1, 1), padding=(1, 1), bias=False)\n",
              "      (bn1): BatchNorm2d(512, eps=1e-05, momentum=0.1, affine=True, track_running_stats=True)\n",
              "      (relu): ReLU(inplace=True)\n",
              "      (conv2): Conv2d(512, 512, kernel_size=(3, 3), stride=(1, 1), padding=(1, 1), bias=False)\n",
              "      (bn2): BatchNorm2d(512, eps=1e-05, momentum=0.1, affine=True, track_running_stats=True)\n",
              "    )\n",
              "  )\n",
              "  (avgpool): AdaptiveAvgPool2d(output_size=(1, 1))\n",
              "  (fc): Sequential(\n",
              "    (0): Linear(in_features=512, out_features=120, bias=True)\n",
              "    (1): ReLU()\n",
              "    (2): Dropout(p=0.2, inplace=False)\n",
              "    (3): Linear(in_features=120, out_features=10, bias=True)\n",
              "  )\n",
              ")"
            ]
          },
          "metadata": {},
          "execution_count": 23
        }
      ]
    },
    {
      "cell_type": "code",
      "source": [
        "for param in Resnet18.parameters():\n",
        "        param.requires_grad = False\n",
        "for param in Resnet18.fc.parameters():\n",
        "        param.requires_grad = True"
      ],
      "metadata": {
        "id": "l9uwvsBdZ-Fz"
      },
      "execution_count": 24,
      "outputs": []
    },
    {
      "cell_type": "code",
      "source": [
        "Resnet18 = Resnet18.to(device)"
      ],
      "metadata": {
        "id": "j67zxMAXaQCo"
      },
      "execution_count": 25,
      "outputs": []
    },
    {
      "cell_type": "markdown",
      "source": [
        "# Training"
      ],
      "metadata": {
        "id": "t5E_OldBab46"
      }
    },
    {
      "cell_type": "code",
      "source": [
        "import torch.optim as optim\n",
        "\n",
        "criterion = nn.CrossEntropyLoss()\n",
        "optimizer = optim.Adam(Resnet18.parameters(), lr=0.001)"
      ],
      "metadata": {
        "id": "f_qK7bnmaTTi"
      },
      "execution_count": 26,
      "outputs": []
    },
    {
      "cell_type": "code",
      "source": [
        "learning_rate = 0.0001\n",
        "epochs = 25"
      ],
      "metadata": {
        "id": "z0ai9JU8a2F2"
      },
      "execution_count": 28,
      "outputs": []
    },
    {
      "cell_type": "code",
      "source": [
        "# training loop\n",
        "\n",
        "for epoch in range(epochs):\n",
        "    running_loss = 0.0\n",
        "\n",
        "    for Ids, labels in train_loader:\n",
        "        Ids, labels = Ids.to(device), labels.to(device)\n",
        "\n",
        "        outputs = Resnet18(Ids)\n",
        "        loss = criterion(outputs, labels)\n",
        "        optimizer.zero_grad()\n",
        "        loss.backward()\n",
        "        optimizer.step()\n",
        "\n",
        "        running_loss += loss.item()\n",
        "\n",
        "\n",
        "    avg_Loss = running_loss / len(train_loader)\n",
        "    print(f\"Epoch [{epoch+1}/{epochs}], Loss: {avg_Loss:.4f}\")\n",
        "\n",
        "    Resnet18.eval()\n",
        "\n",
        "    with torch.no_grad():\n",
        "      correct = 0\n",
        "      total = 0\n",
        "      for Ids , labels in val_loader:\n",
        "\n",
        "        Ids , labels = Ids.to(device) , labels.to(device)\n",
        "\n",
        "        outputs = Resnet18(Ids)\n",
        "        _, predicted = torch.max(outputs , 1)\n",
        "        total += labels.size(0)\n",
        "        correct += (predicted == labels).sum().item()\n",
        "\n",
        "\n",
        "      print(\"accuracy : \",correct / len(val_loader.dataset))\n"
      ],
      "metadata": {
        "colab": {
          "base_uri": "https://localhost:8080/"
        },
        "id": "J8_j6FUma8Q4",
        "outputId": "209a4052-1b24-4956-80ed-35cd384ef9e9"
      },
      "execution_count": 29,
      "outputs": [
        {
          "output_type": "stream",
          "name": "stdout",
          "text": [
            "Epoch [1/25], Loss: 1.2428\n",
            "accuracy :  0.9245283018867925\n",
            "Epoch [2/25], Loss: 0.3447\n",
            "accuracy :  0.9433962264150944\n",
            "Epoch [3/25], Loss: 0.1854\n",
            "accuracy :  0.9481132075471698\n",
            "Epoch [4/25], Loss: 0.1295\n",
            "accuracy :  0.9481132075471698\n",
            "Epoch [5/25], Loss: 0.1012\n",
            "accuracy :  0.9433962264150944\n",
            "Epoch [6/25], Loss: 0.0996\n",
            "accuracy :  0.9622641509433962\n",
            "Epoch [7/25], Loss: 0.0834\n",
            "accuracy :  0.9622641509433962\n",
            "Epoch [8/25], Loss: 0.0645\n",
            "accuracy :  0.9622641509433962\n",
            "Epoch [9/25], Loss: 0.0524\n",
            "accuracy :  0.9575471698113207\n",
            "Epoch [10/25], Loss: 0.0518\n",
            "accuracy :  0.9575471698113207\n",
            "Epoch [11/25], Loss: 0.0487\n",
            "accuracy :  0.9669811320754716\n",
            "Epoch [12/25], Loss: 0.0443\n",
            "accuracy :  0.9622641509433962\n",
            "Epoch [13/25], Loss: 0.0483\n",
            "accuracy :  0.9716981132075472\n",
            "Epoch [14/25], Loss: 0.0346\n",
            "accuracy :  0.9622641509433962\n",
            "Epoch [15/25], Loss: 0.0261\n",
            "accuracy :  0.9669811320754716\n",
            "Epoch [16/25], Loss: 0.0300\n",
            "accuracy :  0.9575471698113207\n",
            "Epoch [17/25], Loss: 0.0291\n",
            "accuracy :  0.9716981132075472\n",
            "Epoch [18/25], Loss: 0.0304\n",
            "accuracy :  0.9481132075471698\n",
            "Epoch [19/25], Loss: 0.0298\n",
            "accuracy :  0.9669811320754716\n",
            "Epoch [20/25], Loss: 0.0238\n",
            "accuracy :  0.9669811320754716\n",
            "Epoch [21/25], Loss: 0.0212\n",
            "accuracy :  0.9622641509433962\n",
            "Epoch [22/25], Loss: 0.0168\n",
            "accuracy :  0.9575471698113207\n",
            "Epoch [23/25], Loss: 0.0194\n",
            "accuracy :  0.9716981132075472\n",
            "Epoch [24/25], Loss: 0.0160\n",
            "accuracy :  0.9669811320754716\n",
            "Epoch [25/25], Loss: 0.0219\n",
            "accuracy :  0.9716981132075472\n"
          ]
        }
      ]
    },
    {
      "cell_type": "code",
      "source": [
        "import pickle"
      ],
      "metadata": {
        "id": "55zn7RH7o9DU"
      },
      "execution_count": 30,
      "outputs": []
    },
    {
      "cell_type": "code",
      "source": [
        "pickle.dump(Resnet18,open('Resnet18_model.pkl','wb'))"
      ],
      "metadata": {
        "id": "aim6TSAtwiNI"
      },
      "execution_count": 31,
      "outputs": []
    },
    {
      "cell_type": "code",
      "source": [
        "predictions  = []\n",
        "classes = ['fresh_apple', 'fresh_banana', 'fresh_orange',\n",
        "                        'rotten_apple', 'rotten_banana', 'rotten_orange']\n",
        "class_to_idx = {cls: idx for idx, cls in enumerate(classes)}\n",
        "\n",
        "# Reverse mapping\n",
        "idx_to_class = {idx: cls for cls, idx in class_to_idx.items()}\n",
        "\n",
        "# Example: get class name from index\n",
        "index = 3\n",
        "print(idx_to_class[1])\n"
      ],
      "metadata": {
        "colab": {
          "base_uri": "https://localhost:8080/"
        },
        "id": "wsW2EJrAwvD8",
        "outputId": "2c66fa81-c6cb-4f4a-910a-522eee4517d3"
      },
      "execution_count": 63,
      "outputs": [
        {
          "output_type": "stream",
          "name": "stdout",
          "text": [
            "fresh_banana\n"
          ]
        }
      ]
    },
    {
      "cell_type": "code",
      "source": [
        "import pandas as pd\n",
        "\n",
        "predictions = []  # Store the final list of predictions\n",
        "\n",
        "with torch.no_grad():\n",
        "    for Ids, labels in test_loader:\n",
        "        Ids = Ids.to(device)\n",
        "\n",
        "        outputs = Resnet18(Ids)\n",
        "        _, predicted = torch.max(outputs, 1)\n",
        "\n",
        "        # For each item in the batch\n",
        "        for filename, pred in zip(labels, predicted):\n",
        "            # Append (filename, predicted class) to the predictions list\n",
        "            predictions.append((filename, idx_to_class[pred.item()]))\n",
        "\n",
        "# Create DataFrame with the predictions\n",
        "df = pd.DataFrame(predictions, columns=[\"Label\", \"Predicted\"])\n",
        "\n",
        "# Save to CSV\n",
        "df.to_csv(\"Submission_testdata.csv\", index=False)\n",
        "\n",
        "print(\"CSV file 'Submission_testdata.csv' created successfully!\")\n"
      ],
      "metadata": {
        "colab": {
          "base_uri": "https://localhost:8080/"
        },
        "id": "-NbU7-3c5szK",
        "outputId": "50052cb6-3246-499d-eb37-9ee4e1a8f9f2"
      },
      "execution_count": 69,
      "outputs": [
        {
          "output_type": "stream",
          "name": "stdout",
          "text": [
            "CSV file 'Submission_testdata.csv' created successfully!\n"
          ]
        }
      ]
    }
  ]
}